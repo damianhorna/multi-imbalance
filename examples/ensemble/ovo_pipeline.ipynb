{
 "cells": [
  {
   "cell_type": "code",
   "execution_count": 3,
   "metadata": {},
   "outputs": [
    {
     "name": "stdout",
     "output_type": "stream",
     "text": [
      "[0.77227723 0.79207921 0.82178218 0.8019802  0.78217822]\n"
     ]
    }
   ],
   "source": [
    "import os\n",
    "\n",
    "from sklearn.model_selection import cross_val_score, ShuffleSplit\n",
    "from sklearn.pipeline import make_pipeline\n",
    "from sklearn.preprocessing import StandardScaler\n",
    "\n",
    "from multi_imbalance.ensemble.ovo import OVO\n",
    "from multi_imbalance.utils.data import load_arff_dataset\n",
    "\n",
    "# an example of how ovo can be used in sklearn pipeline\n",
    "X, y = load_arff_dataset(f\"{os.getcwd()}/../../data/arff/new_ecoli.arff\")\n",
    "clf = make_pipeline(StandardScaler(), OVO())\n",
    "cv = ShuffleSplit(n_splits=5, test_size=0.3, random_state=0)\n",
    "print(cross_val_score(clf, X, y, cv=cv))"
   ]
  }
 ],
 "metadata": {
  "kernelspec": {
   "display_name": "Python 3.9.2 ('.test')",
   "language": "python",
   "name": "python3"
  },
  "language_info": {
   "codemirror_mode": {
    "name": "ipython",
    "version": 3
   },
   "file_extension": ".py",
   "mimetype": "text/x-python",
   "name": "python",
   "nbconvert_exporter": "python",
   "pygments_lexer": "ipython3",
   "version": "3.9.2"
  },
  "orig_nbformat": 4,
  "vscode": {
   "interpreter": {
    "hash": "354fe7bbb08ce19365ae7e9dc9251db0b8655780cc27fe67a2a3ffff5cc90304"
   }
  }
 },
 "nbformat": 4,
 "nbformat_minor": 2
}

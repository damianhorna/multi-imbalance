{
 "cells": [
  {
   "cell_type": "code",
   "execution_count": 2,
   "metadata": {},
   "outputs": [
    {
     "data": {
      "text/plain": [
       "1.0"
      ]
     },
     "execution_count": 2,
     "metadata": {},
     "output_type": "execute_result"
    }
   ],
   "source": [
    "from imblearn.metrics import geometric_mean_score\n",
    "from sklearn.datasets import load_wine\n",
    "from sklearn.model_selection import train_test_split\n",
    "from sklearn import tree\n",
    "\n",
    "from multi_imbalance.ensemble.mrbbagging import MRBBagging\n",
    "\n",
    "# load sklearn built-in dataset\n",
    "dataset = load_wine()\n",
    "X, y = dataset.data, dataset.target\n",
    "\n",
    "# initialization of MEBBagging object\n",
    "mrbbagging = MRBBagging(30, tree.DecisionTreeClassifier())\n",
    "\n",
    "X_train, X_test, y_train, y_test = train_test_split(\n",
    "    X, y, test_size=0.33, random_state=42\n",
    ")\n",
    "\n",
    "# train the MRBBagging classifier\n",
    "mrbbagging.fit(X_train, y_train)\n",
    "\n",
    "# make predictions\n",
    "y_pred = mrbbagging.predict(X_test)\n",
    "geometric_mean_score(y_test, y_pred, correction=0.001)"
   ]
  },
  {
   "cell_type": "code",
   "execution_count": 9,
   "metadata": {
    "pycharm": {
     "name": "#%%\n"
    }
   },
   "outputs": [],
   "source": []
  }
 ],
 "metadata": {
  "kernelspec": {
   "display_name": "Python 3.9.2 ('.project_venv')",
   "language": "python",
   "name": "python3"
  },
  "language_info": {
   "codemirror_mode": {
    "name": "ipython",
    "version": 3
   },
   "file_extension": ".py",
   "mimetype": "text/x-python",
   "name": "python",
   "nbconvert_exporter": "python",
   "pygments_lexer": "ipython3",
   "version": "3.9.2"
  },
  "vscode": {
   "interpreter": {
    "hash": "23e9df2d9424db89a1bc7cf8b9f3a46204923f77702e66b6afb0e7a76a59f4cc"
   }
  }
 },
 "nbformat": 4,
 "nbformat_minor": 0
}

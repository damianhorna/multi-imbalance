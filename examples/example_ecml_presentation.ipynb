{
 "cells": [
  {
   "cell_type": "code",
   "execution_count": 1,
   "metadata": {
    "pycharm": {
     "name": "#%%\n"
    }
   },
   "outputs": [],
   "source": [
    "from collections import defaultdict\n",
    "from imblearn.metrics import geometric_mean_score\n",
    "from pandas import read_csv\n",
    "from sklearn.model_selection import StratifiedKFold\n",
    "from sklearn.preprocessing import StandardScaler\n",
    "from sklearn.tree import DecisionTreeClassifier\n",
    "from tqdm.notebook import tqdm\n",
    "\n",
    "from multi_imbalance.ensemble.mrbbagging import MRBBagging\n",
    "from multi_imbalance.ensemble.ovo import OVO\n",
    "from multi_imbalance.resampling.mdo import MDO\n",
    "from multi_imbalance.resampling.soup import SOUP\n",
    "from multi_imbalance.utils.data import load_datasets_arff\n",
    "from multi_imbalance.utils.min_int_maj import maj_int_min\n",
    "\n",
    "import matplotlib.pyplot as plt\n",
    "\n",
    "import numpy as np\n",
    "import pandas as pd\n",
    "import seaborn as sns\n",
    "\n",
    "seed = 0\n",
    "np.random.seed(seed)\n",
    "\n",
    "sns.set_style(\"white\")\n",
    "sns.set(rc={\"figure.figsize\": (12, 7)})\n",
    "sns.set_context(\"notebook\", font_scale=1.5)"
   ]
  },
  {
   "cell_type": "code",
   "execution_count": 2,
   "metadata": {
    "pycharm": {
     "name": "#%%\n"
    }
   },
   "outputs": [
    {
     "data": {
      "text/plain": "HBox(children=(FloatProgress(value=0.0, max=6.0), HTML(value='')))",
      "application/vnd.jupyter.widget-view+json": {
       "version_major": 2,
       "version_minor": 0,
       "model_id": "f5b69d0e5a0649d9a46bfdd3f4017cad"
      }
     },
     "metadata": {},
     "output_type": "display_data"
    },
    {
     "name": "stdout",
     "output_type": "stream",
     "text": [
      "\n"
     ]
    }
   ],
   "source": [
    "datasets = load_datasets_arff(return_non_cat_length=True)\n",
    "\n",
    "scores = defaultdict(lambda: defaultdict(dict))\n",
    "datasets_to_compare = [\n",
    "    \"glass\",\n",
    "    \"flare\",\n",
    "    \"new_ecoli\",\n",
    "    \"new_winequality-red\",\n",
    "    \"new_yeast\",\n",
    "    \"balance-scale\",\n",
    "]\n",
    "for dataset_name in tqdm(datasets_to_compare):\n",
    "    dataset_values = datasets[dataset_name]\n",
    "    X, y = dataset_values.data, dataset_values.target\n",
    "    non_cat_length = dataset_values.non_cat_length\n",
    "    for method in [\"Tree\", \"SOUP\", \"MDO\", \"OVO\", \"MRBB\"]:\n",
    "        k_fold_score = list()\n",
    "        for i in range(10):\n",
    "            skf = StratifiedKFold(n_splits=5, shuffle=True, random_state=i)\n",
    "            for train_index, test_index in skf.split(X, y):\n",
    "                X_train, X_test = X[train_index], X[test_index]\n",
    "                y_train, y_test = y[train_index], y[test_index]\n",
    "                if non_cat_length > 0:\n",
    "                    normalizer = StandardScaler().fit(X_train[:, :non_cat_length])\n",
    "                    X_train[:, :non_cat_length] = normalizer.transform(\n",
    "                        X_train[:, :non_cat_length]\n",
    "                    )\n",
    "                    X_test[:, :non_cat_length] = normalizer.transform(\n",
    "                        X_test[:, :non_cat_length]\n",
    "                    )\n",
    "\n",
    "                    if method == \"SOUP\":\n",
    "                        soup = SOUP(k=7, maj_int_min=maj_int_min[dataset_name])\n",
    "                        X_train_resampled, y_train_resampled = soup.fit_resample(\n",
    "                            np.copy(X_train), np.copy(y_train)\n",
    "                        )\n",
    "                    elif method == \"MDO\":\n",
    "                        mdo = MDO(\n",
    "                            k=5,\n",
    "                            k1_frac=0.4,\n",
    "                            maj_int_min=maj_int_min[dataset_name],\n",
    "                            seed=seed,\n",
    "                        )\n",
    "                        X_train_resampled, y_train_resampled = mdo.fit_resample(\n",
    "                            np.copy(X_train), np.copy(y_train)\n",
    "                        )\n",
    "                    else:\n",
    "                        X_train_resampled, y_train_resampled = X_train, y_train\n",
    "\n",
    "                    if method == \"OVO\":\n",
    "                        clf = OVO(\n",
    "                            binary_classifier=DecisionTreeClassifier(random_state=seed),\n",
    "                            preprocessing=SOUP(maj_int_min=maj_int_min[dataset_name]),\n",
    "                        )\n",
    "                    elif method == \"MRBB\":\n",
    "                        clf = MRBBagging(\n",
    "                            k=100, learning_algorithm=DecisionTreeClassifier()\n",
    "                        )\n",
    "                    else:\n",
    "                        clf = DecisionTreeClassifier(random_state=i)\n",
    "\n",
    "                clf.fit(X_train_resampled, y_train_resampled)\n",
    "                y_pred = clf.predict(X_test)\n",
    "                gmean = geometric_mean_score(y_test, y_pred, correction=0.001)\n",
    "                k_fold_score.append(gmean)\n",
    "\n",
    "        scores[dataset_name][method] = round(np.mean(k_fold_score), 4)"
   ]
  },
  {
   "cell_type": "markdown",
   "metadata": {
    "pycharm": {
     "name": "#%% md\n"
    }
   },
   "source": [
    "### Results\n",
    "G-mean metric"
   ]
  },
  {
   "cell_type": "code",
   "execution_count": 3,
   "metadata": {
    "pycharm": {
     "name": "#%%\n"
    }
   },
   "outputs": [],
   "source": [
    "df = pd.DataFrame(scores).T\n",
    "df.to_csv(f\"results.csv\")"
   ]
  },
  {
   "cell_type": "code",
   "execution_count": 4,
   "metadata": {
    "pycharm": {
     "name": "#%%\n"
    }
   },
   "outputs": [
    {
     "data": {
      "text/plain": "                 Baseline    SOUP     MDO  OVO + SOUP  MRBBagging\nglass              0.4506  0.6198  0.5031      0.5108      0.6246\nflare              0.4719  0.5513  0.4502      0.5399      0.5533\necoli              0.7131  0.7359  0.7458      0.7518      0.7974\nwinequality-red    0.4254  0.4564  0.4271      0.4597      0.5289\nyeast              0.2471  0.3673  0.2964      0.3615      0.4627\nbalance-scale      0.1404  0.6006  0.1470      0.6477      0.6352",
      "text/html": "<div>\n<style scoped>\n    .dataframe tbody tr th:only-of-type {\n        vertical-align: middle;\n    }\n\n    .dataframe tbody tr th {\n        vertical-align: top;\n    }\n\n    .dataframe thead th {\n        text-align: right;\n    }\n</style>\n<table border=\"1\" class=\"dataframe\">\n  <thead>\n    <tr style=\"text-align: right;\">\n      <th></th>\n      <th>Baseline</th>\n      <th>SOUP</th>\n      <th>MDO</th>\n      <th>OVO + SOUP</th>\n      <th>MRBBagging</th>\n    </tr>\n  </thead>\n  <tbody>\n    <tr>\n      <th>glass</th>\n      <td>0.4506</td>\n      <td>0.6198</td>\n      <td>0.5031</td>\n      <td>0.5108</td>\n      <td>0.6246</td>\n    </tr>\n    <tr>\n      <th>flare</th>\n      <td>0.4719</td>\n      <td>0.5513</td>\n      <td>0.4502</td>\n      <td>0.5399</td>\n      <td>0.5533</td>\n    </tr>\n    <tr>\n      <th>ecoli</th>\n      <td>0.7131</td>\n      <td>0.7359</td>\n      <td>0.7458</td>\n      <td>0.7518</td>\n      <td>0.7974</td>\n    </tr>\n    <tr>\n      <th>winequality-red</th>\n      <td>0.4254</td>\n      <td>0.4564</td>\n      <td>0.4271</td>\n      <td>0.4597</td>\n      <td>0.5289</td>\n    </tr>\n    <tr>\n      <th>yeast</th>\n      <td>0.2471</td>\n      <td>0.3673</td>\n      <td>0.2964</td>\n      <td>0.3615</td>\n      <td>0.4627</td>\n    </tr>\n    <tr>\n      <th>balance-scale</th>\n      <td>0.1404</td>\n      <td>0.6006</td>\n      <td>0.1470</td>\n      <td>0.6477</td>\n      <td>0.6352</td>\n    </tr>\n  </tbody>\n</table>\n</div>"
     },
     "execution_count": 4,
     "metadata": {},
     "output_type": "execute_result"
    }
   ],
   "source": [
    "df = read_csv(\"results.csv\")\n",
    "df.columns = [\"Dataset\", \"Baseline\", \"SOUP\", \"MDO\", \"OVO + SOUP\", \"MRBBagging\"]\n",
    "df = df.set_index(\"Dataset\").T\n",
    "df.columns = [\"glass\", \"flare\", \"ecoli\", \"winequality-red\", \"yeast\", \"balance-scale\"]\n",
    "df = df.T\n",
    "df"
   ]
  },
  {
   "cell_type": "code",
   "execution_count": 5,
   "outputs": [
    {
     "data": {
      "text/plain": "            Mean ranking (the higher the better)\nMethod                                          \nMRBBagging                                  4.83\nOVO + SOUP                                  3.67\nSOUP                                        3.33\nMDO                                         2.00\nBaseline                                    1.17",
      "text/html": "<div>\n<style scoped>\n    .dataframe tbody tr th:only-of-type {\n        vertical-align: middle;\n    }\n\n    .dataframe tbody tr th {\n        vertical-align: top;\n    }\n\n    .dataframe thead th {\n        text-align: right;\n    }\n</style>\n<table border=\"1\" class=\"dataframe\">\n  <thead>\n    <tr style=\"text-align: right;\">\n      <th></th>\n      <th>Mean ranking (the higher the better)</th>\n    </tr>\n    <tr>\n      <th>Method</th>\n      <th></th>\n    </tr>\n  </thead>\n  <tbody>\n    <tr>\n      <th>MRBBagging</th>\n      <td>4.83</td>\n    </tr>\n    <tr>\n      <th>OVO + SOUP</th>\n      <td>3.67</td>\n    </tr>\n    <tr>\n      <th>SOUP</th>\n      <td>3.33</td>\n    </tr>\n    <tr>\n      <th>MDO</th>\n      <td>2.00</td>\n    </tr>\n    <tr>\n      <th>Baseline</th>\n      <td>1.17</td>\n    </tr>\n  </tbody>\n</table>\n</div>"
     },
     "execution_count": 5,
     "metadata": {},
     "output_type": "execute_result"
    }
   ],
   "source": [
    "df_rank = df.rank(axis=1, ascending=True).astype(int)\n",
    "df_meanrank = pd.DataFrame(\n",
    "    df_rank.mean().sort_values(ascending=False),\n",
    "    columns=[\"Mean ranking (the higher the better)\"],\n",
    ").round(2)\n",
    "df_meanrank.index.name = \"Method\"\n",
    "df_meanrank"
   ],
   "metadata": {
    "collapsed": false,
    "pycharm": {
     "name": "#%%\n"
    }
   }
  },
  {
   "cell_type": "code",
   "execution_count": 6,
   "outputs": [
    {
     "data": {
      "text/plain": "<Figure size 864x504 with 1 Axes>",
      "image/png": "[encoded data removed]"
     },
     "metadata": {},
     "output_type": "display_data"
    }
   ],
   "source": [
    "g = sns.barplot(\n",
    "    x=\"Mean ranking (the higher the better)\",\n",
    "    y=df_meanrank.index,\n",
    "    data=df_meanrank,\n",
    "    palette=[\"grey\"],\n",
    "    dodge=True,\n",
    ")\n",
    "g.set(ylabel=None)\n",
    "g.set(xlabel=None)\n",
    "plt.show()"
   ],
   "metadata": {
    "collapsed": false,
    "pycharm": {
     "name": "#%%\n"
    }
   }
  },
  {
   "cell_type": "code",
   "execution_count": 6,
   "outputs": [],
   "source": [],
   "metadata": {
    "collapsed": false,
    "pycharm": {
     "name": "#%%\n"
    }
   }
  }
 ],
 "metadata": {
  "kernelspec": {
   "display_name": "Python 3",
   "language": "python",
   "name": "python3"
  },
  "language_info": {
   "codemirror_mode": {
    "name": "ipython",
    "version": 3
   },
   "file_extension": ".py",
   "mimetype": "text/x-python",
   "name": "python",
   "nbconvert_exporter": "python",
   "pygments_lexer": "ipython3",
   "version": "3.7.4"
  }
 },
 "nbformat": 4,
 "nbformat_minor": 1
}